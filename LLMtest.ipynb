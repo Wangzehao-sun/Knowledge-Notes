{
 "cells": [
  {
   "cell_type": "markdown",
   "metadata": {},
   "source": [
    "```\n",
    "{\n",
    "    \"id\": \"chatcmpl-abc123\",\n",
    "    \"object\": \"chat.completion\",\n",
    "    \"created\": 1677858242,\n",
    "    \"model\": \"gpt-4o-mini\",\n",
    "    \"usage\": {\n",
    "        \"prompt_tokens\": 13,\n",
    "        \"completion_tokens\": 7,\n",
    "        \"total_tokens\": 20\n",
    "    },\n",
    "    \"choices\": [\n",
    "        {\n",
    "            \"message\": {\n",
    "                \"role\": \"assistant\",\n",
    "                \"content\": \"\\n\\nThis is a test!\"\n",
    "            },\n",
    "            \"logprobs\": null,\n",
    "            \"finish_reason\": \"stop\",\n",
    "            \"index\": 0\n",
    "        }\n",
    "    ]\n",
    "}\n",
    "```"
   ]
  },
  {
   "cell_type": "code",
   "execution_count": null,
   "metadata": {},
   "outputs": [],
   "source": [
    "from vllm import LLM, SamplingParams\n",
    "from openai import OpenAI\n",
    "\n",
    "openai_api_key = \"EMPTY\"\n",
    "openai_api_base = \"http://localhost:8000/v1\"\n",
    "\n",
    "client = OpenAI(\n",
    "    api_key=openai_api_key,\n",
    "    base_url=openai_api_base,\n",
    ")\n",
    "\n",
    "messages = [\n",
    "    {\"role\": \"system\", \"content\": \"\"},\n",
    "    {\"role\": \"user\", \"content\": \"你好\"},\n",
    "]\n",
    "gen_params = {\n",
    "    \"max_tokens\": 100,\n",
    "    \"temperature\": 0.9,\n",
    "    \"top_p\": 0.9,\n",
    "    \"stream\": False,\n",
    "}\n",
    "chat_response = client.chat.completions.create(\n",
    "    model=\"myllm\",\n",
    "    messages=messages,\n",
    "    **gen_params\n",
    ")\n",
    "\n",
    "print(chat_response.choices[0].message.content)"
   ]
  }
 ],
 "metadata": {
  "kernelspec": {
   "display_name": "llamafactory",
   "language": "python",
   "name": "python3"
  },
  "language_info": {
   "codemirror_mode": {
    "name": "ipython",
    "version": 3
   },
   "file_extension": ".py",
   "mimetype": "text/x-python",
   "name": "python",
   "nbconvert_exporter": "python",
   "pygments_lexer": "ipython3",
   "version": "3.11.0"
  }
 },
 "nbformat": 4,
 "nbformat_minor": 2
}
